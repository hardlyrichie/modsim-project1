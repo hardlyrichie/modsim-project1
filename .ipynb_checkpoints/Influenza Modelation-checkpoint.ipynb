{
 "cells": [
  {
   "cell_type": "markdown",
   "metadata": {},
   "source": [
    "## Modeling and Simulation in Python\n",
    "\n",
    "Project 1\n",
    "\n",
    "Manu Patil & Richard Gao"
   ]
  },
  {
   "cell_type": "code",
   "execution_count": 4,
   "metadata": {},
   "outputs": [],
   "source": [
    "# Configure Jupyter so figures appear in the notebook\n",
    "%matplotlib inline\n",
    "\n",
    "# Configure Jupyter to display the assigned value after an assignment\n",
    "%config InteractiveShell.ast_node_interactivity='last_expr_or_assign'\n",
    "\n",
    "# import functions from the modsim library\n",
    "from pandas import read_csv\n",
    "import numpy\n",
    "import math\n",
    "import pprint\n",
    "from functools import reduce"
   ]
  },
  {
   "cell_type": "markdown",
   "metadata": {},
   "source": [
    "### What would be the impact on the U.S. population if the flu vaccination was never introduced?\n",
    "\n",
    "There has been a growing population that believes that the flu vaccine has no effect in preventing the disease. With massive advances in sciences over the years, there is most likely a non-negligble effect of the vaccine. \n",
    "\n",
    "To further dive into this question, we will attempt to model the U.S. population with and without the influenza vaccine. In order to model this hypothetical situation we will look at the following parameters:\n",
    "\n",
    "* number of people vaccinated over time\n",
    "* birth rate\n",
    "* death rate\n",
    "    * due to influenza\n",
    "    * excluding influenza\n",
    "* rate of disease spread\n",
    "* total population"
   ]
  },
  {
   "cell_type": "markdown",
   "metadata": {},
   "source": [
    "### Basic Model Breakdown\n",
    "\n",
    "Time unit = months\n",
    "System(population, infected, number of people vaccinated, birth rate, death rate<sans influenza>, infection rate, disease death rate<flu effectiveness>)\n",
    "\n",
    "State( pop, infected people, vaccinated people)\n",
    "Vaccinated people = read in percentage data and apply to population\n",
    "\n",
    "\n",
    "Pop = pop *birthrate –pop *death rate <sans influenza>\n",
    "\n",
    "Without Vaccine Situation\n",
    "\tInfected [t+1] = infected[t] + infected * infection rate\n",
    "\tKilled by flu = Infected* Disease Death rate\n",
    "\n",
    "With Vaccine situation\n",
    "\tVaccinated = read in data\n",
    "Infected [t+1] = infected[t] + infected * infection rate\n",
    "Killed by Flu = Infected * (population – vaccinated people) * Disease Death rate.\n",
    "\n",
    "\n",
    "\n",
    "\n",
    "\n",
    "\n",
    "\n",
    "\n"
   ]
  },
  {
   "cell_type": "markdown",
   "metadata": {},
   "source": [
    "### Read data in from csv\n",
    "\n",
    "Using the read_csv function from pandas to parse and read in influenza data from the Center for Disease Control and Prevention database."
   ]
  },
  {
   "cell_type": "code",
   "execution_count": 5,
   "metadata": {},
   "outputs": [],
   "source": [
    "def fill_list(x, y):\n",
    "    interval = list(range(x, y))\n",
    "    return interval"
   ]
  },
  {
   "cell_type": "code",
   "execution_count": 6,
   "metadata": {},
   "outputs": [
    {
     "data": {
      "text/plain": [
       "[0.564762683161331,\n",
       " 2.2468697044963903,\n",
       " 8.819293704319323,\n",
       " 25.841367158335924,\n",
       " 35.050871222529516,\n",
       " 38.409085579387146,\n",
       " 40.92616652909716,\n",
       " 42.433629400177175,\n",
       " 43.37507688686603,\n",
       " 43.9841261889325,\n",
       " 44.401958381491646]"
      ]
     },
     "execution_count": 6,
     "metadata": {},
     "output_type": "execute_result"
    }
   ],
   "source": [
    "csv = read_csv(\"data/2015-2016.csv\", encoding = \"ISO-8859-1\")\n",
    "\n",
    "# Get the index of where each age group starts\n",
    "new_group_start = []\n",
    "\n",
    "size_of_csv = None\n",
    "\n",
    "for size_of_csv, age_group in enumerate(csv.values[0]):\n",
    "    if not isinstance(age_group, float):\n",
    "        new_group_start.append(size_of_csv)  \n",
    "\n",
    "# Isolate and retrieve just the U.S population row\n",
    "us_pop_row = 54\n",
    "skiprows = list(filter(lambda x : x != 2 and x != us_pop_row, range(0, us_pop_row + 1)))\n",
    "\n",
    "# Go through each age group and get SAMPLE and puth each age groups months into a month array\n",
    "rates_by_month = [[], [], [], [], [], [], [], [], [], [], []] # 2D array containing arrays of rates by different months\n",
    "sample_sizes = [] # 1D array, each index corresponds to an array in rates_by_month\n",
    "months = ['Jul', 'Aug', 'Sep', 'Oct', 'Nov', 'Dec', 'Jan', 'Feb', 'Mar', 'Apr', 'May',]\n",
    "\n",
    "# Loop through each age group    \n",
    "for index in range(0, len(new_group_start)):\n",
    "    if index + 1 == len(new_group_start): # Last age group\n",
    "        interval = fill_list(new_group_start[index], size_of_csv)\n",
    "    else: \n",
    "        interval = fill_list(new_group_start[index], new_group_start[index + 1])\n",
    "\n",
    "    # Get data for an age group\n",
    "    df = read_csv('data/2015-2016.csv', skipinitialspace=True, skiprows=skiprows, usecols=interval, nrows=1, encoding=\"ISO-8859-1\")\n",
    "\n",
    "    # Put sample size for each age group into sample_sizes\n",
    "    sample_sizes.append(df[df.columns[4]].iloc[0])\n",
    "\n",
    "    # Put each month's rate into rates_by_month\n",
    "    for month_num, month in enumerate(months):\n",
    "        month_name = f'{month}.{index}'\n",
    "        if index == 0:\n",
    "            month_name = month\n",
    "        if not isinstance(df[[month_name]].iloc[0][month_name], float):\n",
    "            rates_by_month[month_num].append(0)\n",
    "        else:\n",
    "            rates_by_month[month_num].append(df[[month_name]].iloc[0][month_name])\n",
    "\n",
    "# Compute total sample population in us\n",
    "sample_total = reduce((lambda x, y: x + y), sample_sizes)\n",
    "\n",
    "# Calculate influeza rates by month in us\n",
    "us_influeza_vac_by_month = []\n",
    "for month in rates_by_month:\n",
    "    sum = 0\n",
    "    for index, rate in enumerate(month):\n",
    "        sum += sample_sizes[index] * rate\n",
    "    us_influeza_vac_by_month.append(sum / sample_total)\n",
    "\n",
    "# Print us population vaccination by month\n",
    "us_influeza_vac_by_month"
   ]
  },
  {
   "cell_type": "code",
   "execution_count": 9,
   "metadata": {},
   "outputs": [
    {
     "data": {
      "text/html": [
       "<div>\n",
       "<style scoped>\n",
       "    .dataframe tbody tr th:only-of-type {\n",
       "        vertical-align: middle;\n",
       "    }\n",
       "\n",
       "    .dataframe tbody tr th {\n",
       "        vertical-align: top;\n",
       "    }\n",
       "\n",
       "    .dataframe thead th {\n",
       "        text-align: right;\n",
       "    }\n",
       "</style>\n",
       "<table border=\"1\" class=\"dataframe\">\n",
       "  <thead>\n",
       "    <tr style=\"text-align: right;\">\n",
       "      <th></th>\n",
       "      <th>LL</th>\n",
       "    </tr>\n",
       "  </thead>\n",
       "  <tbody>\n",
       "    <tr>\n",
       "      <th>0</th>\n",
       "      <td>0.5</td>\n",
       "    </tr>\n",
       "  </tbody>\n",
       "</table>\n",
       "</div>"
      ],
      "text/plain": [
       "    LL\n",
       "0  0.5"
      ]
     },
     "execution_count": 9,
     "metadata": {},
     "output_type": "execute_result"
    }
   ],
   "source": [
    "birth_rate = read_csv('data/BirthRates201718.csv', skipinitialspace=True, skiprows=skiprows, usecols=[2], nrows=1)\n",
    "death_rate = read_csv(\"data/DeathRates2017-18.csv\", encoding = \"ISO-8859-1\")\n",
    "\n",
    "birth_rate\n",
    "\n"
   ]
  },
  {
   "cell_type": "code",
   "execution_count": 7,
   "metadata": {},
   "outputs": [
    {
     "ename": "NameError",
     "evalue": "name 'System' is not defined",
     "output_type": "error",
     "traceback": [
      "\u001b[1;31m---------------------------------------------------------------------------\u001b[0m",
      "\u001b[1;31mNameError\u001b[0m                                 Traceback (most recent call last)",
      "\u001b[1;32m<ipython-input-7-8fe577962e88>\u001b[0m in \u001b[0;36m<module>\u001b[1;34m()\u001b[0m\n\u001b[1;32m----> 1\u001b[1;33m \u001b[0msystem\u001b[0m \u001b[1;33m=\u001b[0m \u001b[0mSystem\u001b[0m\u001b[1;33m(\u001b[0m\u001b[0minitpopulation\u001b[0m \u001b[1;33m=\u001b[0m \u001b[1;36m0\u001b[0m\u001b[1;33m,\u001b[0m \u001b[0mbirth\u001b[0m \u001b[1;33m=\u001b[0m \u001b[1;36m0\u001b[0m\u001b[1;33m,\u001b[0m \u001b[0mdeath\u001b[0m \u001b[1;33m=\u001b[0m \u001b[1;36m0\u001b[0m\u001b[1;33m)\u001b[0m\u001b[1;33m\u001b[0m\u001b[0m\n\u001b[0m\u001b[0;32m      2\u001b[0m \u001b[0mpops\u001b[0m \u001b[1;33m=\u001b[0m \u001b[0mState\u001b[0m\u001b[1;33m(\u001b[0m\u001b[0mvaccinated\u001b[0m \u001b[1;33m=\u001b[0m \u001b[1;36m0\u001b[0m\u001b[1;33m,\u001b[0m \u001b[0minfected\u001b[0m\u001b[1;33m=\u001b[0m \u001b[1;36m0\u001b[0m\u001b[1;33m,\u001b[0m \u001b[0mpopulation\u001b[0m \u001b[1;33m=\u001b[0m\u001b[1;36m0\u001b[0m\u001b[1;33m)\u001b[0m\u001b[1;33m\u001b[0m\u001b[0m\n",
      "\u001b[1;31mNameError\u001b[0m: name 'System' is not defined"
     ]
    }
   ],
   "source": [
    "system = System(initpopulation = 0, birth = 0, death = 0)\n",
    "pops = State(vaccinated = 0, infected= 0, population =0)\n"
   ]
  },
  {
   "cell_type": "code",
   "execution_count": null,
   "metadata": {},
   "outputs": [],
   "source": [
    "results = TimeSeries();\n",
    "results[0]= system.initpopulation\n",
    "\n",
    "for i in linspace(1,13,13):\n",
    "    pops.population = pops.population + system.birth - system.death\n",
    "    results[i] = pops.population\n",
    "    deltavaccinated = pops.population * vaccinationPercent #Read in from csv\n",
    "    pops.vaccinated = deltavaccinated\n",
    "    \n",
    "    \n",
    "    deltainfected = pops.population * infection rate \"\"\" read in from csv\"\"\" + pops.vaccinated * vaccineeffectiverate \"\"\"read in from csv\"\"\"\n",
    "    \n",
    "    pop.population = pops.poulation - deltavaccinated - deltainfected\n",
    "plot(results);"
   ]
  },
  {
   "cell_type": "code",
   "execution_count": null,
   "metadata": {},
   "outputs": [],
   "source": []
  },
  {
   "cell_type": "code",
   "execution_count": null,
   "metadata": {},
   "outputs": [],
   "source": []
  },
  {
   "cell_type": "code",
   "execution_count": null,
   "metadata": {},
   "outputs": [],
   "source": []
  },
  {
   "cell_type": "code",
   "execution_count": null,
   "metadata": {},
   "outputs": [],
   "source": []
  }
 ],
 "metadata": {
  "kernelspec": {
   "display_name": "Python 3",
   "language": "python",
   "name": "python3"
  },
  "language_info": {
   "codemirror_mode": {
    "name": "ipython",
    "version": 3
   },
   "file_extension": ".py",
   "mimetype": "text/x-python",
   "name": "python",
   "nbconvert_exporter": "python",
   "pygments_lexer": "ipython3",
   "version": "3.6.5"
  }
 },
 "nbformat": 4,
 "nbformat_minor": 2
}
