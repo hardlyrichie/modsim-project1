{
 "cells": [
  {
   "cell_type": "markdown",
   "metadata": {},
   "source": [
    "## Modeling and Simulation in Python\n",
    "\n",
    "Project 1\n",
    "\n",
    "Manu Patil & Richard Gao"
   ]
  },
  {
   "cell_type": "code",
   "execution_count": 1,
   "metadata": {},
   "outputs": [],
   "source": [
    "# Configure Jupyter so figures appear in the notebook\n",
    "%matplotlib inline\n",
    "\n",
    "# Configure Jupyter to display the assigned value after an assignment\n",
    "%config InteractiveShell.ast_node_interactivity='last_expr_or_assign'\n",
    "\n",
    "# import functions from the modsim library\n",
    "from modsim import *\n",
    "from pandas import read_csv\n",
    "import numpy\n",
    "import math\n",
    "import pprint\n",
    "from functools import reduce"
   ]
  },
  {
   "cell_type": "markdown",
   "metadata": {},
   "source": [
    "### What would be the impact on the U.S. population if the flu vaccination was never introduced?\n",
    "\n",
    "There has been a growing population that believes that the flu vaccine has no effect in preventing the disease. With massive advances in sciences over the years, there is most likely a non-negligble effect of the vaccine. \n",
    "\n",
    "To further dive into this question, we will attempt to model the U.S. population with and without the influenza vaccine. In order to model this hypothetical situation we will look at the following parameters:\n",
    "\n",
    "* number of people vaccinated over time\n",
    "* birth rate\n",
    "* death rate\n",
    "    * due to influenza\n",
    "    * excluding influenza\n",
    "* rate of disease spread\n",
    "* total population"
   ]
  },
  {
   "cell_type": "markdown",
   "metadata": {},
   "source": [
    "### Basic Model Breakdown\n",
    "\n",
    "Time unit = months\n",
    "System(population, infected, number of people vaccinated, birth rate, death rate<sans influenza>, infection rate, disease death rate<flu effectiveness>)\n",
    "\n",
    "State( pop, infected people, vaccinated people)\n",
    "Vaccinated people = read in percentage data and apply to population\n",
    "\n",
    "\n",
    "Pop = pop *birthrate –pop *death rate <sans influenza>\n",
    "\n",
    "Without Vaccine Situation\n",
    "\tInfected [t+1] = infected[t] + infected * infection rate\n",
    "\tKilled by flu = Infected* Disease Death rate\n",
    "\n",
    "With Vaccine situation\n",
    "\tVaccinated = read in data\n",
    "Infected [t+1] = infected[t] + infected * infection rate\n",
    "Killed by Flu = Infected * (population – vaccinated people) * Disease Death rate.\n",
    "\n",
    "\n",
    "\n",
    "\n",
    "\n",
    "\n",
    "\n",
    "\n"
   ]
  },
  {
   "cell_type": "markdown",
   "metadata": {},
   "source": [
    "### Read data in from csv\n",
    "\n",
    "Using the read_csv function from pandas to parse and read in influenza data from the Center for Disease Control and Prevention database."
   ]
  },
  {
   "cell_type": "code",
   "execution_count": 2,
   "metadata": {},
   "outputs": [],
   "source": [
    "def fill_list(x, y):\n",
    "    interval = list(range(x, y))\n",
    "    return interval"
   ]
  },
  {
   "cell_type": "code",
   "execution_count": 3,
   "metadata": {},
   "outputs": [
    {
     "name": "stdout",
     "output_type": "stream",
     "text": [
      "[0.564762683161331, 2.2468697044963903, 8.819293704319323, 25.841367158335924, 35.050871222529516, 38.409085579387146, 40.92616652909716, 42.433629400177175, 43.37507688686603, 43.9841261889325, 44.401958381491646]\n",
      "[0.564762683161331, 1.6821070213350593, 6.572423999822933, 17.0220734540166, 9.209504064193592, 3.35821435685763, 2.5170809497100137, 1.5074628710800155, 0.9414474866888582, 0.6090493020664667]\n"
     ]
    }
   ],
   "source": [
    "csv = read_csv(\"data/2015-2016.csv\", encoding = \"ISO-8859-1\")\n",
    "\n",
    "# Get the index of where each age group starts\n",
    "new_group_start = []\n",
    "\n",
    "size_of_csv = None\n",
    "\n",
    "for size_of_csv, age_group in enumerate(csv.values[0]):\n",
    "    if not isinstance(age_group, float):\n",
    "        new_group_start.append(size_of_csv)  \n",
    "\n",
    "# Isolate and retrieve just the U.S population row\n",
    "us_pop_row = 54\n",
    "skiprows = list(filter(lambda x : x != 2 and x != us_pop_row, range(0, us_pop_row + 1)))\n",
    "\n",
    "# Go through each age group and get SAMPLE and puth each age groups months into a month array\n",
    "rates_by_month = [[], [], [], [], [], [], [], [], [], [], []] # 2D array containing arrays of rates by different months\n",
    "sample_sizes = [] # 1D array, each index corresponds to an array in rates_by_month\n",
    "months = ['Jul', 'Aug', 'Sep', 'Oct', 'Nov', 'Dec', 'Jan', 'Feb', 'Mar', 'Apr', 'May',]\n",
    "\n",
    "# Loop through each age group    \n",
    "for index in range(0, len(new_group_start)):\n",
    "    if index + 1 == len(new_group_start): # Last age group\n",
    "        interval = fill_list(new_group_start[index], size_of_csv)\n",
    "    else: \n",
    "        interval = fill_list(new_group_start[index], new_group_start[index + 1])\n",
    "\n",
    "    # Get data for an age group\n",
    "    df = read_csv('data/2015-2016.csv', skipinitialspace=True, skiprows=skiprows, usecols=interval, nrows=1, encoding=\"ISO-8859-1\")\n",
    "\n",
    "    # Put sample size for each age group into sample_sizes\n",
    "    sample_sizes.append(df[df.columns[4]].iloc[0])\n",
    "\n",
    "    # Put each month's rate into rates_by_month\n",
    "    for month_num, month in enumerate(months):\n",
    "        month_name = f'{month}.{index}'\n",
    "        if index == 0:\n",
    "            month_name = month\n",
    "        if not isinstance(df[[month_name]].iloc[0][month_name], float):\n",
    "            rates_by_month[month_num].append(0)\n",
    "        else:\n",
    "            rates_by_month[month_num].append(df[[month_name]].iloc[0][month_name])\n",
    "\n",
    "# Compute total sample population in us\n",
    "sample_total = reduce((lambda x, y: x + y), sample_sizes)\n",
    "\n",
    "# Calculate influeza rates by month in us\n",
    "us_influeza_vac_by_month = []\n",
    "for month in rates_by_month:\n",
    "    sum = 0\n",
    "    for index, rate in enumerate(month):\n",
    "        sum += sample_sizes[index] * rate\n",
    "    us_influeza_vac_by_month.append(sum / sample_total)\n",
    "\n",
    "# Print us population vaccination by month\n",
    "print(us_influeza_vac_by_month)\n",
    "vacc =[]\n",
    "vacc.insert(0, us_influeza_vac_by_month[0])\n",
    "vPast = vacc[0];\n",
    "for i in range(1,10,1):\n",
    "    vacc.insert(i,us_influeza_vac_by_month[i]- vPast)\n",
    "    vPast = us_influeza_vac_by_month[i] \n",
    "print(vacc)"
   ]
  },
  {
   "cell_type": "code",
   "execution_count": 34,
   "metadata": {},
   "outputs": [],
   "source": [
    "birth_rate = read_csv('data/BirthRates201718.csv', skipinitialspace=True, usecols=[2])\n",
    "birth_rate;\n",
    "birth_rate[birth_rate.columns[0]].iloc[1];"
   ]
  },
  {
   "cell_type": "code",
   "execution_count": 33,
   "metadata": {},
   "outputs": [],
   "source": [
    "death_rate = read_csv(\"data/DeathRates2017-18.csv\", skipinitialspace=True, usecols=[2])\n",
    "\n",
    "death_rate;"
   ]
  },
  {
   "cell_type": "markdown",
   "metadata": {},
   "source": [
    "### Model"
   ]
  },
  {
   "cell_type": "code",
   "execution_count": 37,
   "metadata": {},
   "outputs": [],
   "source": [
    "system = System(initpopulation = 300000000,vaccinationPercent = vacc, infection_rate = 0, vaccineEffectiveRate =0, infectionDeathRate =0)\n",
    "pops = State(vaccinated = TimeSeries(), infected= TimeSeries(), population= TimeSeries());\n"
   ]
  },
  {
   "cell_type": "code",
   "execution_count": 40,
   "metadata": {},
   "outputs": [
    {
     "data": {
      "image/png": "[encoded data removed]",
      "text/plain": [
       "<Figure size 432x288 with 1 Axes>"
      ]
     },
     "metadata": {},
     "output_type": "display_data"
    }
   ],
   "source": [
    "def justPop():\n",
    "    pops.population[0] = system.initpopulation\n",
    "    months = [1,2,3,4,5,6,7,8,9,10]\n",
    "    for i in months:       \n",
    "        pops.population[i] = pops.population[i-1] + birth_rate[birth_rate.columns[0]].iloc[i] - death_rate[death_rate.columns[0]].iloc[i]\n",
    "    plot(pops.population,':', label = 'Population')\n",
    "justPop()\n",
    "\n",
    "#Change months to range(1,11)\n",
    "#Change i to months"
   ]
  },
  {
   "cell_type": "code",
   "execution_count": 43,
   "metadata": {},
   "outputs": [
    {
     "data": {
      "image/png": "[encoded data removed]",
      "text/plain": [
       "<Figure size 432x288 with 1 Axes>"
      ]
     },
     "metadata": {},
     "output_type": "display_data"
    }
   ],
   "source": [
    "def pop__vaccine():\n",
    "    pops.population[0] = system.initpopulation\n",
    "    pops.vaccinated[0] = 0\n",
    "    months = [1,2,3,4,5,6,7,8,9,10]\n",
    "    for i in months:\n",
    "        deltavaccinated = pops.population[i-1] * system.vaccinationPercent[i-1]/100 \n",
    "       \n",
    "        pops.vaccinated[i] = pops.vaccinated[i-1] + deltavaccinated\n",
    "\n",
    "\n",
    "        pops.population[i] = pops.population[i-1] + birth_rate[birth_rate.columns[0]].iloc[i] - death_rate[death_rate.columns[0]].iloc[i] - deltavaccinated\n",
    "\n",
    "    plot(pops.population,':', label = 'Population');\n",
    "    plot(pops.vaccinated, label ='Vaccinated');\n",
    "pop__vaccine()"
   ]
  },
  {
   "cell_type": "code",
   "execution_count": 44,
   "metadata": {},
   "outputs": [
    {
     "data": {
      "text/plain": [
       "[<matplotlib.lines.Line2D at 0x23f0ccf84a8>]"
      ]
     },
     "execution_count": 44,
     "metadata": {},
     "output_type": "execute_result"
    },
    {
     "data": {
      "image/png": "[encoded data removed]",
      "text/plain": [
       "<Figure size 432x288 with 1 Axes>"
      ]
     },
     "metadata": {},
     "output_type": "display_data"
    }
   ],
   "source": [
    "pops.population[0] = system.initpopulation\n",
    "pops.vaccinated[0] = 0\n",
    "months = [1,2,3,4,5,6,7,8,9,10]\n",
    "for i in months:\n",
    "    deltavaccinated = pops.population[i-1] * system.vaccinationPercent[i-1]/100 \n",
    "    pops.vaccinated[i] = pops.vaccinated[i-1] + deltavaccinated\n",
    "    \n",
    "    deltainfected = pop.population[i-1] * system.infection_rate[i-1] - pops.infected[i-1] * system.infectionDeathRate - pops.infected[i-1] * system.disease\n",
    "    pops.infected[i] = pops.infected[i-1] + deltainfected \n",
    "   \n",
    "    \n",
    "    pops.population[i] = pops.population[i-1] + birth_rate[birth_rate.columns[0]].iloc[i] - death_rate[death_rate.columns[0]].iloc[i] - deltavaccinated\n",
    "\n",
    "plot(pops.population,':', label = 'Population');\n",
    "plot(pops.vaccinated, label ='Vaccinated');"
   ]
  },
  {
   "cell_type": "code",
   "execution_count": null,
   "metadata": {},
   "outputs": [],
   "source": []
  },
  {
   "cell_type": "code",
   "execution_count": null,
   "metadata": {},
   "outputs": [],
   "source": []
  }
 ],
 "metadata": {
  "kernelspec": {
   "display_name": "Python 3",
   "language": "python",
   "name": "python3"
  },
  "language_info": {
   "codemirror_mode": {
    "name": "ipython",
    "version": 3
   },
   "file_extension": ".py",
   "mimetype": "text/x-python",
   "name": "python",
   "nbconvert_exporter": "python",
   "pygments_lexer": "ipython3",
   "version": "3.6.6"
  }
 },
 "nbformat": 4,
 "nbformat_minor": 2
}
